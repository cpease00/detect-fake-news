{
 "cells": [
  {
   "cell_type": "code",
   "execution_count": 1,
   "metadata": {},
   "outputs": [],
   "source": [
    "from textblob import TextBlob\n",
    "import re\n",
    "import pandas as pd\n",
    "import numpy as np\n",
    "from mpl_toolkits.mplot3d import Axes3D\n",
    "import matplotlib.pyplot as plt\n",
    "%matplotlib inline\n",
    "import seaborn as sns\n",
    "from sklearn.linear_model import LogisticRegression, LinearRegression\n",
    "from sklearn.manifold import TSNE\n",
    "from sklearn.model_selection import train_test_split\n",
    "from sklearn.naive_bayes import GaussianNB, MultinomialNB, BernoulliNB\n",
    "from sklearn.metrics import accuracy_score, f1_score, roc_curve, auc\n",
    "from sklearn.feature_extraction.text import CountVectorizer, TfidfVectorizer\n",
    "from nltk.tokenize import word_tokenize, WhitespaceTokenizer, TweetTokenizer\n",
    "from nltk.sentiment.vader import SentimentIntensityAnalyzer\n",
    "np.random.seed(18)"
   ]
  },
  {
   "cell_type": "code",
   "execution_count": 2,
   "metadata": {},
   "outputs": [
    {
     "name": "stdout",
     "output_type": "stream",
     "text": [
      "rows after removing nans:  20761\n"
     ]
    }
   ],
   "source": [
    "df1 = pd.read_csv('train.csv')[['text', 'label']]\n",
    "df1 = df1[df1.text.isna() == False]\n",
    "l =len(df1)\n",
    "print('rows after removing nans: ', l)\n",
    "rando = list(np.random.choice(l-2, 3000, replace=False))\n",
    "df1 = df1.iloc[rando]"
   ]
  },
  {
   "cell_type": "code",
   "execution_count": 3,
   "metadata": {},
   "outputs": [],
   "source": [
    "def calculate_sentiments(dataframe):\n",
    "    sid = SentimentIntensityAnalyzer()\n",
    "    scores = [sid.polarity_scores(i) for i in dataframe.text]\n",
    "    compounds = np.array([i['compound'] for i in scores], dtype='float32')\n",
    "    abs_compounds = np.array([np.sqrt(i**2) for i in compounds], dtype='float32')\n",
    "    negs = np.array([i['neg'] for i in scores], dtype='float32')\n",
    "    neus = np.array([i['neu'] for i in scores], dtype='float32')\n",
    "    poss = np.array([i['pos'] for i in scores], dtype='float32')\n",
    "    sent = dataframe['text'].apply(lambda x: TextBlob(x).sentiment)\n",
    "    pol = np.array([s[0] for s in sent], dtype='float32')\n",
    "    abs_pol = np.array([np.sqrt(i**2) for i in pol], dtype='float32')\n",
    "    subj = np.array([s[1] for s in sent], dtype='float32')\n",
    "    return compounds, abs_compounds, negs, neus, poss, pol, abs_pol, subj\n",
    "compounds, abs_compounds, negs, neus, poss, pol, abs_pol, subj = calculate_sentiments(df1)"
   ]
  },
  {
   "cell_type": "code",
   "execution_count": 4,
   "metadata": {},
   "outputs": [],
   "source": [
    "df1['compounds'] = compounds\n",
    "df1['abs_compounds'] = abs_compounds\n",
    "df1['negs'] = negs\n",
    "df1['neus'] = neus\n",
    "df1['poss'] = poss\n",
    "df1['pol'] = pol\n",
    "df1['abs_pol'] = abs_pol\n",
    "df1['subj'] = subj"
   ]
  },
  {
   "cell_type": "code",
   "execution_count": 5,
   "metadata": {},
   "outputs": [],
   "source": [
    "#NRC sentiment-emotion lexicon"
   ]
  },
  {
   "cell_type": "code",
   "execution_count": 6,
   "metadata": {},
   "outputs": [
    {
     "data": {
      "text/plain": [
       "(0.5533333333333333, 0.5066273932253315)"
      ]
     },
     "execution_count": 6,
     "metadata": {},
     "output_type": "execute_result"
    }
   ],
   "source": [
    "X = df1[['compounds', 'negs', 'neus', 'poss', 'pol', 'subj']]\n",
    "y = df1['label']\n",
    "lrxtrain, lrxtest, lrytrain, lrytest = train_test_split(X, y)\n",
    "lr = LogisticRegression()\n",
    "lr.fit(lrxtrain, lrytrain)\n",
    "lrpreds = lr.predict(lrxtest)\n",
    "accuracy = accuracy_score(lrytest, lrpreds)\n",
    "f1 = f1_score(lrytest, lrpreds)\n",
    "accuracy, f1"
   ]
  },
  {
   "cell_type": "code",
   "execution_count": 7,
   "metadata": {},
   "outputs": [],
   "source": [
    "def clean_article(article):\n",
    "    art = re.sub(\"[^A-Za-z0-9' ]\", '', article)\n",
    "    art2 = re.sub(\"[( ' )( ')(' )]\", ' ', art)\n",
    "    art3 = re.sub('\\s[A-Za-z]\\s', ' ', art2)\n",
    "    return art3.lower()"
   ]
  },
  {
   "cell_type": "code",
   "execution_count": 8,
   "metadata": {},
   "outputs": [],
   "source": [
    "x_values = df1[['text', 'compounds', 'abs_compounds', 'negs', 'neus', 'poss', 'pol', 'abs_pol', 'subj']]\n",
    "y_values = df1['label']\n",
    "xtrain, xtest, ytrain, ytest = train_test_split(x_values, y_values)"
   ]
  },
  {
   "cell_type": "code",
   "execution_count": 9,
   "metadata": {},
   "outputs": [
    {
     "name": "stdout",
     "output_type": "stream",
     "text": [
      "Stored 'xtrain' (DataFrame)\n",
      "Stored 'xtest' (DataFrame)\n",
      "Stored 'ytrain' (Series)\n",
      "Stored 'ytest' (Series)\n"
     ]
    }
   ],
   "source": [
    "%store xtrain\n",
    "%store xtest\n",
    "%store ytrain\n",
    "%store ytest"
   ]
  },
  {
   "cell_type": "code",
   "execution_count": 10,
   "metadata": {},
   "outputs": [],
   "source": [
    "bow = CountVectorizer(stop_words = 'english', preprocessor = clean_article, tokenizer = TweetTokenizer().tokenize,\n",
    "                      ngram_range=(1,2), max_features = 1000, max_df = 1.0, min_df = 1, binary = False)\n",
    "training_data = bow.fit_transform(xtrain.text)\n",
    "test_data = bow.transform(xtest.text)"
   ]
  },
  {
   "cell_type": "code",
   "execution_count": 11,
   "metadata": {},
   "outputs": [
    {
     "name": "stdout",
     "output_type": "stream",
     "text": [
      "Stored 'example_article' (str)\n"
     ]
    }
   ],
   "source": [
    "example_article = xtrain.text.iloc[44]\n",
    "%store example_article "
   ]
  },
  {
   "cell_type": "code",
   "execution_count": 12,
   "metadata": {},
   "outputs": [
    {
     "data": {
      "text/plain": [
       "1"
      ]
     },
     "execution_count": 12,
     "metadata": {},
     "output_type": "execute_result"
    }
   ],
   "source": [
    "ytrain.iloc[44]"
   ]
  },
  {
   "cell_type": "code",
   "execution_count": 13,
   "metadata": {},
   "outputs": [
    {
     "name": "stdout",
     "output_type": "stream",
     "text": [
      "Stored 'ex' (DataFrame)\n",
      "Stored 'dfex' (DataFrame)\n"
     ]
    },
    {
     "data": {
      "text/html": [
       "<div>\n",
       "<style scoped>\n",
       "    .dataframe tbody tr th:only-of-type {\n",
       "        vertical-align: middle;\n",
       "    }\n",
       "\n",
       "    .dataframe tbody tr th {\n",
       "        vertical-align: top;\n",
       "    }\n",
       "\n",
       "    .dataframe thead th {\n",
       "        text-align: right;\n",
       "    }\n",
       "</style>\n",
       "<table border=\"1\" class=\"dataframe\">\n",
       "  <thead>\n",
       "    <tr style=\"text-align: right;\">\n",
       "      <th></th>\n",
       "      <th>0</th>\n",
       "      <th>000</th>\n",
       "      <th>1</th>\n",
       "      <th>10</th>\n",
       "      <th>100</th>\n",
       "      <th>11</th>\n",
       "      <th>12</th>\n",
       "      <th>13</th>\n",
       "      <th>15</th>\n",
       "      <th>17</th>\n",
       "      <th>...</th>\n",
       "      <th>york</th>\n",
       "      <th>york times</th>\n",
       "      <th>young</th>\n",
       "      <th>youre</th>\n",
       "      <th>abs_compounds</th>\n",
       "      <th>negs</th>\n",
       "      <th>neus</th>\n",
       "      <th>poss</th>\n",
       "      <th>abs_pol</th>\n",
       "      <th>subj</th>\n",
       "    </tr>\n",
       "  </thead>\n",
       "  <tbody>\n",
       "    <tr>\n",
       "      <th>0</th>\n",
       "      <td>0</td>\n",
       "      <td>0</td>\n",
       "      <td>0</td>\n",
       "      <td>0</td>\n",
       "      <td>1</td>\n",
       "      <td>0</td>\n",
       "      <td>0</td>\n",
       "      <td>0</td>\n",
       "      <td>0</td>\n",
       "      <td>0</td>\n",
       "      <td>...</td>\n",
       "      <td>0</td>\n",
       "      <td>0</td>\n",
       "      <td>0</td>\n",
       "      <td>0</td>\n",
       "      <td>0</td>\n",
       "      <td>0</td>\n",
       "      <td>0</td>\n",
       "      <td>0</td>\n",
       "      <td>0</td>\n",
       "      <td>0</td>\n",
       "    </tr>\n",
       "  </tbody>\n",
       "</table>\n",
       "<p>1 rows × 1005 columns</p>\n",
       "</div>"
      ],
      "text/plain": [
       "   0  000  1  10  100  11  12  13  15  17  ...   york  york times  young  \\\n",
       "0  0    0  0   0    1   0   0   0   0   0  ...      0           0      0   \n",
       "\n",
       "   youre  abs_compounds  negs  neus  poss  abs_pol  subj  \n",
       "0      0              0     0     0     0        0     0  \n",
       "\n",
       "[1 rows x 1005 columns]"
      ]
     },
     "execution_count": 13,
     "metadata": {},
     "output_type": "execute_result"
    }
   ],
   "source": [
    "test_ex = bow.transform(xtrain.text.iloc[44:45])\n",
    "dfex = pd.DataFrame(test_ex.toarray())\n",
    "dfex.columns = bow.get_feature_names()\n",
    "dfex = dfex.drop('s', axis = 1)\n",
    "dfex['abs_compounds'] = 0\n",
    "dfex['negs'] = 0\n",
    "dfex['neus'] = 0\n",
    "dfex['poss'] = 0\n",
    "dfex['abs_pol'] = 0\n",
    "dfex['subj'] = 0\n",
    "ex = dfex[dfex.columns[(dfex != 0).all()]]\n",
    "%store ex\n",
    "%store dfex\n",
    "dfex"
   ]
  },
  {
   "cell_type": "code",
   "execution_count": 14,
   "metadata": {},
   "outputs": [
    {
     "data": {
      "text/plain": [
       "(2250, 999)"
      ]
     },
     "execution_count": 14,
     "metadata": {},
     "output_type": "execute_result"
    }
   ],
   "source": [
    "dftrain = pd.DataFrame(training_data.toarray())\n",
    "dftrain.columns = bow.get_feature_names()\n",
    "dftrain = dftrain.drop('s', axis = 1)\n",
    "dftest = pd.DataFrame(test_data.toarray())\n",
    "dftest.columns = bow.get_feature_names()\n",
    "dftest = dftest.drop('s', axis = 1)\n",
    "dftrain.shape"
   ]
  },
  {
   "cell_type": "code",
   "execution_count": 15,
   "metadata": {},
   "outputs": [
    {
     "data": {
      "text/plain": [
       "(0.9213333333333333, 0.9220607661822985)"
      ]
     },
     "execution_count": 15,
     "metadata": {},
     "output_type": "execute_result"
    }
   ],
   "source": [
    "lr_plain = LogisticRegression()\n",
    "model4 = lr_plain.fit(dftrain, ytrain)\n",
    "lr_plain_preds = model4.predict(dftest)\n",
    "accuracy = accuracy_score(ytest, lr_plain_preds)\n",
    "f1 = f1_score(ytest, lr_plain_preds)\n",
    "accuracy, f1"
   ]
  },
  {
   "cell_type": "code",
   "execution_count": 16,
   "metadata": {},
   "outputs": [],
   "source": [
    "train_agg = pd.DataFrame.copy(dftrain)\n",
    "test_agg = pd.DataFrame.copy(dftest)\n",
    "# testing = train_agg.iloc[33, :]"
   ]
  },
  {
   "cell_type": "code",
   "execution_count": 17,
   "metadata": {},
   "outputs": [
    {
     "name": "stderr",
     "output_type": "stream",
     "text": [
      "/anaconda3/lib/python3.6/site-packages/ipykernel_launcher.py:6: RuntimeWarning: invalid value encountered in longlong_scalars\n",
      "  \n",
      "/anaconda3/lib/python3.6/site-packages/ipykernel_launcher.py:6: RuntimeWarning: invalid value encountered in long_scalars\n",
      "  \n"
     ]
    }
   ],
   "source": [
    "def find_avg_w(row):\n",
    "    tally = 0\n",
    "    rowsum = sum(row)\n",
    "    for j in range(len(row)):\n",
    "        tally += len(train_agg.columns[j]) * row[j]\n",
    "    return tally / rowsum\n",
    "\n",
    "lista = []\n",
    "for k in range(train_agg.shape[0]):\n",
    "    lista.append(find_avg_w(train_agg.iloc[k, : ]))\n",
    "train_agg['avg_word_length'] = lista\n",
    "\n",
    "lista = []\n",
    "for k in range(test_agg.shape[0]):\n",
    "    lista.append(find_avg_w(test_agg.iloc[k, : ]))\n",
    "test_agg['avg_word_length'] = lista\n",
    "\n",
    "#for item in list(train_agg.columns):\n",
    "   \n",
    "def find_num_num(row):\n",
    "    tally = 0\n",
    "    for j in range(len(row)):\n",
    "        if train_agg.columns[j].isdigit() == True:\n",
    "            tally += row[j]\n",
    "    return tally   \n",
    "    \n",
    "lista = []\n",
    "for k in range(train_agg.shape[0]):        \n",
    "    lista.append(find_num_num(train_agg.iloc[k, : ]))\n",
    "train_agg['num_nums'] = lista\n",
    "lista = []\n",
    "for k in range(test_agg.shape[0]):        \n",
    "    lista.append(find_num_num(test_agg.iloc[k, : ]))\n",
    "test_agg['num_nums'] = lista\n",
    "\n",
    "ind_train = train_agg.loc[train_agg.avg_word_length.isna() == False].index\n",
    "ind_test = test_agg.loc[test_agg.avg_word_length.isna() == False].index\n",
    "train_agg = train_agg[train_agg.avg_word_length.isna() == False]\n",
    "test_agg = test_agg[test_agg.avg_word_length.isna() == False]"
   ]
  },
  {
   "cell_type": "code",
   "execution_count": 18,
   "metadata": {},
   "outputs": [
    {
     "data": {
      "text/html": [
       "<div>\n",
       "<style scoped>\n",
       "    .dataframe tbody tr th:only-of-type {\n",
       "        vertical-align: middle;\n",
       "    }\n",
       "\n",
       "    .dataframe tbody tr th {\n",
       "        vertical-align: top;\n",
       "    }\n",
       "\n",
       "    .dataframe thead th {\n",
       "        text-align: right;\n",
       "    }\n",
       "</style>\n",
       "<table border=\"1\" class=\"dataframe\">\n",
       "  <thead>\n",
       "    <tr style=\"text-align: right;\">\n",
       "      <th></th>\n",
       "      <th>0</th>\n",
       "      <th>000</th>\n",
       "      <th>1</th>\n",
       "      <th>10</th>\n",
       "      <th>100</th>\n",
       "      <th>11</th>\n",
       "      <th>12</th>\n",
       "      <th>13</th>\n",
       "      <th>15</th>\n",
       "      <th>17</th>\n",
       "      <th>...</th>\n",
       "      <th>year</th>\n",
       "      <th>years</th>\n",
       "      <th>years ago</th>\n",
       "      <th>yes</th>\n",
       "      <th>york</th>\n",
       "      <th>york times</th>\n",
       "      <th>young</th>\n",
       "      <th>youre</th>\n",
       "      <th>avg_word_length</th>\n",
       "      <th>num_nums</th>\n",
       "    </tr>\n",
       "  </thead>\n",
       "  <tbody>\n",
       "    <tr>\n",
       "      <th>0</th>\n",
       "      <td>0</td>\n",
       "      <td>0</td>\n",
       "      <td>0</td>\n",
       "      <td>0</td>\n",
       "      <td>0</td>\n",
       "      <td>0</td>\n",
       "      <td>0</td>\n",
       "      <td>0</td>\n",
       "      <td>0</td>\n",
       "      <td>0</td>\n",
       "      <td>...</td>\n",
       "      <td>4</td>\n",
       "      <td>0</td>\n",
       "      <td>0</td>\n",
       "      <td>0</td>\n",
       "      <td>0</td>\n",
       "      <td>0</td>\n",
       "      <td>0</td>\n",
       "      <td>0</td>\n",
       "      <td>5.919355</td>\n",
       "      <td>3.0</td>\n",
       "    </tr>\n",
       "    <tr>\n",
       "      <th>1</th>\n",
       "      <td>0</td>\n",
       "      <td>0</td>\n",
       "      <td>0</td>\n",
       "      <td>0</td>\n",
       "      <td>0</td>\n",
       "      <td>0</td>\n",
       "      <td>0</td>\n",
       "      <td>0</td>\n",
       "      <td>0</td>\n",
       "      <td>0</td>\n",
       "      <td>...</td>\n",
       "      <td>0</td>\n",
       "      <td>0</td>\n",
       "      <td>0</td>\n",
       "      <td>0</td>\n",
       "      <td>0</td>\n",
       "      <td>0</td>\n",
       "      <td>0</td>\n",
       "      <td>0</td>\n",
       "      <td>5.671233</td>\n",
       "      <td>3.0</td>\n",
       "    </tr>\n",
       "    <tr>\n",
       "      <th>2</th>\n",
       "      <td>0</td>\n",
       "      <td>0</td>\n",
       "      <td>0</td>\n",
       "      <td>0</td>\n",
       "      <td>1</td>\n",
       "      <td>0</td>\n",
       "      <td>0</td>\n",
       "      <td>0</td>\n",
       "      <td>0</td>\n",
       "      <td>0</td>\n",
       "      <td>...</td>\n",
       "      <td>0</td>\n",
       "      <td>0</td>\n",
       "      <td>0</td>\n",
       "      <td>0</td>\n",
       "      <td>0</td>\n",
       "      <td>0</td>\n",
       "      <td>0</td>\n",
       "      <td>0</td>\n",
       "      <td>7.040541</td>\n",
       "      <td>1.0</td>\n",
       "    </tr>\n",
       "    <tr>\n",
       "      <th>3</th>\n",
       "      <td>0</td>\n",
       "      <td>0</td>\n",
       "      <td>0</td>\n",
       "      <td>0</td>\n",
       "      <td>0</td>\n",
       "      <td>0</td>\n",
       "      <td>0</td>\n",
       "      <td>0</td>\n",
       "      <td>0</td>\n",
       "      <td>0</td>\n",
       "      <td>...</td>\n",
       "      <td>0</td>\n",
       "      <td>0</td>\n",
       "      <td>0</td>\n",
       "      <td>0</td>\n",
       "      <td>0</td>\n",
       "      <td>0</td>\n",
       "      <td>1</td>\n",
       "      <td>0</td>\n",
       "      <td>5.527778</td>\n",
       "      <td>0.0</td>\n",
       "    </tr>\n",
       "    <tr>\n",
       "      <th>4</th>\n",
       "      <td>0</td>\n",
       "      <td>0</td>\n",
       "      <td>1</td>\n",
       "      <td>0</td>\n",
       "      <td>0</td>\n",
       "      <td>0</td>\n",
       "      <td>0</td>\n",
       "      <td>0</td>\n",
       "      <td>0</td>\n",
       "      <td>0</td>\n",
       "      <td>...</td>\n",
       "      <td>1</td>\n",
       "      <td>1</td>\n",
       "      <td>0</td>\n",
       "      <td>0</td>\n",
       "      <td>4</td>\n",
       "      <td>4</td>\n",
       "      <td>0</td>\n",
       "      <td>0</td>\n",
       "      <td>5.833333</td>\n",
       "      <td>5.0</td>\n",
       "    </tr>\n",
       "  </tbody>\n",
       "</table>\n",
       "<p>5 rows × 1001 columns</p>\n",
       "</div>"
      ],
      "text/plain": [
       "   0  000  1  10  100  11  12  13  15  17    ...     year  years  years ago  \\\n",
       "0  0    0  0   0    0   0   0   0   0   0    ...        4      0          0   \n",
       "1  0    0  0   0    0   0   0   0   0   0    ...        0      0          0   \n",
       "2  0    0  0   0    1   0   0   0   0   0    ...        0      0          0   \n",
       "3  0    0  0   0    0   0   0   0   0   0    ...        0      0          0   \n",
       "4  0    0  1   0    0   0   0   0   0   0    ...        1      1          0   \n",
       "\n",
       "   yes  york  york times  young  youre  avg_word_length  num_nums  \n",
       "0    0     0           0      0      0         5.919355       3.0  \n",
       "1    0     0           0      0      0         5.671233       3.0  \n",
       "2    0     0           0      0      0         7.040541       1.0  \n",
       "3    0     0           0      1      0         5.527778       0.0  \n",
       "4    0     4           4      0      0         5.833333       5.0  \n",
       "\n",
       "[5 rows x 1001 columns]"
      ]
     },
     "execution_count": 18,
     "metadata": {},
     "output_type": "execute_result"
    }
   ],
   "source": [
    "train_agg.head()"
   ]
  },
  {
   "cell_type": "code",
   "execution_count": 19,
   "metadata": {},
   "outputs": [],
   "source": [
    "ytrain_agg = ytrain.reset_index(drop=True)\n",
    "ytest_agg = ytest.reset_index(drop=True)"
   ]
  },
  {
   "cell_type": "code",
   "execution_count": 20,
   "metadata": {},
   "outputs": [],
   "source": [
    "ytest_agg = ytest_agg[ind_test]"
   ]
  },
  {
   "cell_type": "code",
   "execution_count": 21,
   "metadata": {},
   "outputs": [],
   "source": [
    "ytrain_agg = ytrain_agg[ind_train]"
   ]
  },
  {
   "cell_type": "code",
   "execution_count": 22,
   "metadata": {},
   "outputs": [
    {
     "data": {
      "text/plain": [
       "(0.9192462987886945, 0.9193548387096774)"
      ]
     },
     "execution_count": 22,
     "metadata": {},
     "output_type": "execute_result"
    }
   ],
   "source": [
    "lr_agg = LogisticRegression()\n",
    "model3 = lr_agg.fit(train_agg, ytrain_agg)\n",
    "lr_agg_preds = model3.predict(test_agg)\n",
    "accuracy = accuracy_score(ytest_agg, lr_agg_preds)\n",
    "f1 = f1_score(ytest_agg, lr_agg_preds)\n",
    "accuracy, f1"
   ]
  },
  {
   "cell_type": "code",
   "execution_count": 23,
   "metadata": {},
   "outputs": [],
   "source": [
    "df_train_extra = pd.DataFrame.copy(dftrain)\n",
    "df_train_extra['abs_compounds'] = xtrain['abs_compounds'].values\n",
    "df_train_extra['negs'] = xtrain['negs'].values\n",
    "df_train_extra['neus'] = xtrain['neus'].values\n",
    "df_train_extra['poss'] = xtrain['poss'].values\n",
    "df_train_extra['abs_pol'] = xtrain['abs_pol'].values\n",
    "df_train_extra['subj'] = xtrain['subj'].values\n",
    "\n",
    "df_test_extra = pd.DataFrame.copy(dftest)\n",
    "df_test_extra['abs_compounds'] = xtest['abs_compounds'].values\n",
    "df_test_extra['negs'] = xtest['negs'].values\n",
    "df_test_extra['neus'] = xtest['neus'].values\n",
    "df_test_extra['poss'] = xtest['poss'].values\n",
    "df_test_extra['abs_pol'] = xtest['abs_pol'].values\n",
    "df_test_extra['subj'] = xtest['subj'].values"
   ]
  },
  {
   "cell_type": "code",
   "execution_count": 24,
   "metadata": {},
   "outputs": [
    {
     "name": "stdout",
     "output_type": "stream",
     "text": [
      "Stored 'df_train_lr' (DataFrame)\n"
     ]
    }
   ],
   "source": [
    "df_train_lr = pd.DataFrame.copy(dftrain)\n",
    "df_train_lr['compounds'] = xtrain['compounds'].values\n",
    "df_train_lr['negs'] = xtrain['negs'].values\n",
    "df_train_lr['neus'] = xtrain['neus'].values\n",
    "df_train_lr['poss'] = xtrain['poss'].values\n",
    "df_train_lr['pol'] = xtrain['pol'].values\n",
    "df_train_lr['subj'] = xtrain['subj'].values\n",
    "\n",
    "df_test_lr = pd.DataFrame.copy(dftest)\n",
    "df_test_lr['compounds'] = xtest['compounds'].values\n",
    "df_test_lr['negs'] = xtest['negs'].values\n",
    "df_test_lr['neus'] = xtest['neus'].values\n",
    "df_test_lr['poss'] = xtest['poss'].values\n",
    "df_test_lr['pol'] = xtest['pol'].values\n",
    "df_test_lr['subj'] = xtest['subj'].values\n",
    "%store df_train_lr"
   ]
  },
  {
   "cell_type": "code",
   "execution_count": 25,
   "metadata": {
    "scrolled": true
   },
   "outputs": [
    {
     "data": {
      "text/html": [
       "<div>\n",
       "<style scoped>\n",
       "    .dataframe tbody tr th:only-of-type {\n",
       "        vertical-align: middle;\n",
       "    }\n",
       "\n",
       "    .dataframe tbody tr th {\n",
       "        vertical-align: top;\n",
       "    }\n",
       "\n",
       "    .dataframe thead th {\n",
       "        text-align: right;\n",
       "    }\n",
       "</style>\n",
       "<table border=\"1\" class=\"dataframe\">\n",
       "  <thead>\n",
       "    <tr style=\"text-align: right;\">\n",
       "      <th></th>\n",
       "      <th>0</th>\n",
       "      <th>000</th>\n",
       "      <th>1</th>\n",
       "      <th>10</th>\n",
       "      <th>100</th>\n",
       "      <th>11</th>\n",
       "      <th>12</th>\n",
       "      <th>13</th>\n",
       "      <th>15</th>\n",
       "      <th>17</th>\n",
       "      <th>...</th>\n",
       "      <th>york</th>\n",
       "      <th>york times</th>\n",
       "      <th>young</th>\n",
       "      <th>youre</th>\n",
       "      <th>compounds</th>\n",
       "      <th>negs</th>\n",
       "      <th>neus</th>\n",
       "      <th>poss</th>\n",
       "      <th>pol</th>\n",
       "      <th>subj</th>\n",
       "    </tr>\n",
       "  </thead>\n",
       "  <tbody>\n",
       "    <tr>\n",
       "      <th>0</th>\n",
       "      <td>0</td>\n",
       "      <td>0</td>\n",
       "      <td>0</td>\n",
       "      <td>0</td>\n",
       "      <td>0</td>\n",
       "      <td>1</td>\n",
       "      <td>0</td>\n",
       "      <td>0</td>\n",
       "      <td>0</td>\n",
       "      <td>0</td>\n",
       "      <td>...</td>\n",
       "      <td>0</td>\n",
       "      <td>0</td>\n",
       "      <td>0</td>\n",
       "      <td>0</td>\n",
       "      <td>-0.9837</td>\n",
       "      <td>0.085</td>\n",
       "      <td>0.873</td>\n",
       "      <td>0.042</td>\n",
       "      <td>0.026308</td>\n",
       "      <td>0.353579</td>\n",
       "    </tr>\n",
       "    <tr>\n",
       "      <th>1</th>\n",
       "      <td>0</td>\n",
       "      <td>0</td>\n",
       "      <td>3</td>\n",
       "      <td>0</td>\n",
       "      <td>0</td>\n",
       "      <td>0</td>\n",
       "      <td>0</td>\n",
       "      <td>0</td>\n",
       "      <td>0</td>\n",
       "      <td>0</td>\n",
       "      <td>...</td>\n",
       "      <td>0</td>\n",
       "      <td>0</td>\n",
       "      <td>0</td>\n",
       "      <td>5</td>\n",
       "      <td>0.9973</td>\n",
       "      <td>0.053</td>\n",
       "      <td>0.832</td>\n",
       "      <td>0.115</td>\n",
       "      <td>0.149236</td>\n",
       "      <td>0.571749</td>\n",
       "    </tr>\n",
       "    <tr>\n",
       "      <th>2</th>\n",
       "      <td>1</td>\n",
       "      <td>0</td>\n",
       "      <td>0</td>\n",
       "      <td>0</td>\n",
       "      <td>0</td>\n",
       "      <td>0</td>\n",
       "      <td>0</td>\n",
       "      <td>0</td>\n",
       "      <td>0</td>\n",
       "      <td>0</td>\n",
       "      <td>...</td>\n",
       "      <td>0</td>\n",
       "      <td>0</td>\n",
       "      <td>0</td>\n",
       "      <td>0</td>\n",
       "      <td>0.6124</td>\n",
       "      <td>0.013</td>\n",
       "      <td>0.934</td>\n",
       "      <td>0.053</td>\n",
       "      <td>-0.005556</td>\n",
       "      <td>0.511111</td>\n",
       "    </tr>\n",
       "    <tr>\n",
       "      <th>3</th>\n",
       "      <td>0</td>\n",
       "      <td>0</td>\n",
       "      <td>1</td>\n",
       "      <td>0</td>\n",
       "      <td>0</td>\n",
       "      <td>0</td>\n",
       "      <td>0</td>\n",
       "      <td>0</td>\n",
       "      <td>0</td>\n",
       "      <td>0</td>\n",
       "      <td>...</td>\n",
       "      <td>0</td>\n",
       "      <td>0</td>\n",
       "      <td>0</td>\n",
       "      <td>0</td>\n",
       "      <td>-0.9891</td>\n",
       "      <td>0.154</td>\n",
       "      <td>0.803</td>\n",
       "      <td>0.043</td>\n",
       "      <td>-0.028595</td>\n",
       "      <td>0.329248</td>\n",
       "    </tr>\n",
       "    <tr>\n",
       "      <th>4</th>\n",
       "      <td>0</td>\n",
       "      <td>5</td>\n",
       "      <td>3</td>\n",
       "      <td>2</td>\n",
       "      <td>0</td>\n",
       "      <td>0</td>\n",
       "      <td>0</td>\n",
       "      <td>1</td>\n",
       "      <td>1</td>\n",
       "      <td>0</td>\n",
       "      <td>...</td>\n",
       "      <td>0</td>\n",
       "      <td>0</td>\n",
       "      <td>0</td>\n",
       "      <td>0</td>\n",
       "      <td>0.9867</td>\n",
       "      <td>0.065</td>\n",
       "      <td>0.852</td>\n",
       "      <td>0.083</td>\n",
       "      <td>0.054085</td>\n",
       "      <td>0.385309</td>\n",
       "    </tr>\n",
       "  </tbody>\n",
       "</table>\n",
       "<p>5 rows × 1005 columns</p>\n",
       "</div>"
      ],
      "text/plain": [
       "   0  000  1  10  100  11  12  13  15  17    ...     york  york times  young  \\\n",
       "0  0    0  0   0    0   1   0   0   0   0    ...        0           0      0   \n",
       "1  0    0  3   0    0   0   0   0   0   0    ...        0           0      0   \n",
       "2  1    0  0   0    0   0   0   0   0   0    ...        0           0      0   \n",
       "3  0    0  1   0    0   0   0   0   0   0    ...        0           0      0   \n",
       "4  0    5  3   2    0   0   0   1   1   0    ...        0           0      0   \n",
       "\n",
       "   youre  compounds   negs   neus   poss       pol      subj  \n",
       "0      0    -0.9837  0.085  0.873  0.042  0.026308  0.353579  \n",
       "1      5     0.9973  0.053  0.832  0.115  0.149236  0.571749  \n",
       "2      0     0.6124  0.013  0.934  0.053 -0.005556  0.511111  \n",
       "3      0    -0.9891  0.154  0.803  0.043 -0.028595  0.329248  \n",
       "4      0     0.9867  0.065  0.852  0.083  0.054085  0.385309  \n",
       "\n",
       "[5 rows x 1005 columns]"
      ]
     },
     "execution_count": 25,
     "metadata": {},
     "output_type": "execute_result"
    }
   ],
   "source": [
    "df_test_lr.head()"
   ]
  },
  {
   "cell_type": "code",
   "execution_count": 26,
   "metadata": {},
   "outputs": [
    {
     "name": "stdout",
     "output_type": "stream",
     "text": [
      "Stored 'model' (LogisticRegression)\n"
     ]
    },
    {
     "name": "stderr",
     "output_type": "stream",
     "text": [
      "/anaconda3/lib/python3.6/site-packages/sklearn/linear_model/logistic.py:1356: RuntimeWarning: divide by zero encountered in log\n",
      "  return np.log(self.predict_proba(X))\n"
     ]
    }
   ],
   "source": [
    "lr2 = LogisticRegression()\n",
    "model = lr2.fit(df_train_lr, ytrain)\n",
    "lr2preds = model.predict(df_test_lr)\n",
    "accuracy = accuracy_score(ytest, lr2preds)\n",
    "f1 = f1_score(ytest, lr2preds)\n",
    "probas = model.predict_log_proba(df_test_lr)\n",
    "%store model"
   ]
  },
  {
   "cell_type": "code",
   "execution_count": 27,
   "metadata": {
    "scrolled": false
   },
   "outputs": [
    {
     "data": {
      "text/plain": [
       "(0.924, 0.924901185770751)"
      ]
     },
     "execution_count": 27,
     "metadata": {},
     "output_type": "execute_result"
    }
   ],
   "source": [
    "accuracy, f1"
   ]
  },
  {
   "cell_type": "code",
   "execution_count": 28,
   "metadata": {},
   "outputs": [
    {
     "name": "stdout",
     "output_type": "stream",
     "text": [
      "Probably fake\n"
     ]
    }
   ],
   "source": [
    "if model.predict(dfex)[0] == 0:\n",
    "    print(\"Probably real\")\n",
    "else:\n",
    "    print(\"Probably fake\")"
   ]
  },
  {
   "cell_type": "code",
   "execution_count": 29,
   "metadata": {},
   "outputs": [
    {
     "data": {
      "image/png": "[encoded data removed]",
      "text/plain": [
       "<Figure size 432x288 with 1 Axes>"
      ]
     },
     "metadata": {},
     "output_type": "display_data"
    }
   ],
   "source": [
    "fpr, tpr, threshold = roc_curve(ytest, probas[:,1])  \n",
    "roc_auc = auc(fpr, tpr)\n",
    "\n",
    "plt.title('Receiver Operating Characteristic: Logistic Regression')\n",
    "plt.plot(fpr, tpr, 'b', label = 'AUC = %0.2f' % roc_auc)\n",
    "plt.legend(loc = 'lower right')\n",
    "plt.plot([0, 1], [0, 1],'r--')\n",
    "plt.xlim([0, 1])\n",
    "plt.ylim([0, 1])\n",
    "plt.ylabel('True Positive Rate')\n",
    "plt.xlabel('False Positive Rate')\n",
    "plt.show()"
   ]
  },
  {
   "cell_type": "code",
   "execution_count": 30,
   "metadata": {},
   "outputs": [],
   "source": [
    "feature_names = np.array(list(train_agg.columns.values))\n",
    "n=20\n",
    "coefs_with_fns = sorted(zip(lr_agg.coef_[0], feature_names))\n",
    "top = list(zip(coefs_with_fns[:n], coefs_with_fns[:-(n + 1):-1]))"
   ]
  },
  {
   "cell_type": "code",
   "execution_count": 45,
   "metadata": {},
   "outputs": [
    {
     "name": "stdout",
     "output_type": "stream",
     "text": [
      "Stored 'table1' (DataFrame)\n"
     ]
    },
    {
     "data": {
      "text/html": [
       "<div>\n",
       "<style scoped>\n",
       "    .dataframe tbody tr th:only-of-type {\n",
       "        vertical-align: middle;\n",
       "    }\n",
       "\n",
       "    .dataframe tbody tr th {\n",
       "        vertical-align: top;\n",
       "    }\n",
       "\n",
       "    .dataframe thead th {\n",
       "        text-align: right;\n",
       "    }\n",
       "</style>\n",
       "<table border=\"1\" class=\"dataframe\">\n",
       "  <thead>\n",
       "    <tr style=\"text-align: right;\">\n",
       "      <th></th>\n",
       "      <th>informative for \"real\"</th>\n",
       "      <th>coefficient for \"real\"</th>\n",
       "      <th>informative for \"fake\"</th>\n",
       "      <th>coefficient for \"fake\"</th>\n",
       "    </tr>\n",
       "  </thead>\n",
       "  <tbody>\n",
       "    <tr>\n",
       "      <th>0</th>\n",
       "      <td>000</td>\n",
       "      <td>-1.775681</td>\n",
       "      <td>october</td>\n",
       "      <td>1.464918</td>\n",
       "    </tr>\n",
       "    <tr>\n",
       "      <th>1</th>\n",
       "      <td>breitbart</td>\n",
       "      <td>-1.543640</td>\n",
       "      <td>november</td>\n",
       "      <td>1.117678</td>\n",
       "    </tr>\n",
       "    <tr>\n",
       "      <th>2</th>\n",
       "      <td>follow</td>\n",
       "      <td>-1.522940</td>\n",
       "      <td>0</td>\n",
       "      <td>1.035245</td>\n",
       "    </tr>\n",
       "    <tr>\n",
       "      <th>3</th>\n",
       "      <td>twitter</td>\n",
       "      <td>-1.514925</td>\n",
       "      <td>share</td>\n",
       "      <td>1.005953</td>\n",
       "    </tr>\n",
       "    <tr>\n",
       "      <th>4</th>\n",
       "      <td>com</td>\n",
       "      <td>-1.192881</td>\n",
       "      <td>hillary</td>\n",
       "      <td>0.998986</td>\n",
       "    </tr>\n",
       "    <tr>\n",
       "      <th>5</th>\n",
       "      <td>sunday</td>\n",
       "      <td>-0.990900</td>\n",
       "      <td>major</td>\n",
       "      <td>0.976374</td>\n",
       "    </tr>\n",
       "    <tr>\n",
       "      <th>6</th>\n",
       "      <td>games</td>\n",
       "      <td>-0.948990</td>\n",
       "      <td>2016</td>\n",
       "      <td>0.896866</td>\n",
       "    </tr>\n",
       "    <tr>\n",
       "      <th>7</th>\n",
       "      <td>ms</td>\n",
       "      <td>-0.941412</td>\n",
       "      <td>image</td>\n",
       "      <td>0.799001</td>\n",
       "    </tr>\n",
       "    <tr>\n",
       "      <th>8</th>\n",
       "      <td>breitbart news</td>\n",
       "      <td>-0.909656</td>\n",
       "      <td>started</td>\n",
       "      <td>0.796570</td>\n",
       "    </tr>\n",
       "    <tr>\n",
       "      <th>9</th>\n",
       "      <td>votes</td>\n",
       "      <td>-0.798642</td>\n",
       "      <td>september</td>\n",
       "      <td>0.734943</td>\n",
       "    </tr>\n",
       "    <tr>\n",
       "      <th>10</th>\n",
       "      <td>2017</td>\n",
       "      <td>-0.787171</td>\n",
       "      <td>comments</td>\n",
       "      <td>0.708314</td>\n",
       "    </tr>\n",
       "    <tr>\n",
       "      <th>11</th>\n",
       "      <td>said</td>\n",
       "      <td>-0.777914</td>\n",
       "      <td>comment</td>\n",
       "      <td>0.705017</td>\n",
       "    </tr>\n",
       "    <tr>\n",
       "      <th>12</th>\n",
       "      <td>president trump</td>\n",
       "      <td>-0.759855</td>\n",
       "      <td>actually</td>\n",
       "      <td>0.675323</td>\n",
       "    </tr>\n",
       "    <tr>\n",
       "      <th>13</th>\n",
       "      <td>president</td>\n",
       "      <td>-0.740739</td>\n",
       "      <td>sent</td>\n",
       "      <td>0.631757</td>\n",
       "    </tr>\n",
       "    <tr>\n",
       "      <th>14</th>\n",
       "      <td>night</td>\n",
       "      <td>-0.740306</td>\n",
       "      <td>emails</td>\n",
       "      <td>0.623655</td>\n",
       "    </tr>\n",
       "    <tr>\n",
       "      <th>15</th>\n",
       "      <td>trumps</td>\n",
       "      <td>-0.729083</td>\n",
       "      <td>article</td>\n",
       "      <td>0.622279</td>\n",
       "    </tr>\n",
       "    <tr>\n",
       "      <th>16</th>\n",
       "      <td>read</td>\n",
       "      <td>-0.694691</td>\n",
       "      <td>end</td>\n",
       "      <td>0.620367</td>\n",
       "    </tr>\n",
       "    <tr>\n",
       "      <th>17</th>\n",
       "      <td>instead</td>\n",
       "      <td>-0.673463</td>\n",
       "      <td>victory</td>\n",
       "      <td>0.577383</td>\n",
       "    </tr>\n",
       "    <tr>\n",
       "      <th>18</th>\n",
       "      <td>american</td>\n",
       "      <td>-0.647932</td>\n",
       "      <td>close</td>\n",
       "      <td>0.570337</td>\n",
       "    </tr>\n",
       "    <tr>\n",
       "      <th>19</th>\n",
       "      <td>makes</td>\n",
       "      <td>-0.643167</td>\n",
       "      <td>local</td>\n",
       "      <td>0.559088</td>\n",
       "    </tr>\n",
       "  </tbody>\n",
       "</table>\n",
       "</div>"
      ],
      "text/plain": [
       "   informative for \"real\"  coefficient for \"real\" informative for \"fake\"  \\\n",
       "0                     000               -1.775681                october   \n",
       "1               breitbart               -1.543640               november   \n",
       "2                  follow               -1.522940                      0   \n",
       "3                 twitter               -1.514925                  share   \n",
       "4                     com               -1.192881                hillary   \n",
       "5                  sunday               -0.990900                  major   \n",
       "6                   games               -0.948990                   2016   \n",
       "7                      ms               -0.941412                  image   \n",
       "8          breitbart news               -0.909656                started   \n",
       "9                   votes               -0.798642              september   \n",
       "10                   2017               -0.787171               comments   \n",
       "11                   said               -0.777914                comment   \n",
       "12        president trump               -0.759855               actually   \n",
       "13              president               -0.740739                   sent   \n",
       "14                  night               -0.740306                 emails   \n",
       "15                 trumps               -0.729083                article   \n",
       "16                   read               -0.694691                    end   \n",
       "17                instead               -0.673463                victory   \n",
       "18               american               -0.647932                  close   \n",
       "19                  makes               -0.643167                  local   \n",
       "\n",
       "    coefficient for \"fake\"  \n",
       "0                 1.464918  \n",
       "1                 1.117678  \n",
       "2                 1.035245  \n",
       "3                 1.005953  \n",
       "4                 0.998986  \n",
       "5                 0.976374  \n",
       "6                 0.896866  \n",
       "7                 0.799001  \n",
       "8                 0.796570  \n",
       "9                 0.734943  \n",
       "10                0.708314  \n",
       "11                0.705017  \n",
       "12                0.675323  \n",
       "13                0.631757  \n",
       "14                0.623655  \n",
       "15                0.622279  \n",
       "16                0.620367  \n",
       "17                0.577383  \n",
       "18                0.570337  \n",
       "19                0.559088  "
      ]
     },
     "execution_count": 45,
     "metadata": {},
     "output_type": "execute_result"
    }
   ],
   "source": [
    "table1 = pd.DataFrame(columns=['informative for \"real\"', 'coefficient for \"real\"', \n",
    "                               'informative for \"fake\"', 'coefficient for \"fake\"'])\n",
    "for i in top:\n",
    "    table1 = table1.append({'informative for \"real\"': i[0][1], 'coefficient for \"real\"': i[0][0],\n",
    "                           'informative for \"fake\"': i[1][1], 'coefficient for \"fake\"': i[1][0]}, ignore_index=True)\n",
    "\n",
    "\n",
    "%store table1\n",
    "table1\n",
    "\n"
   ]
  },
  {
   "cell_type": "code",
   "execution_count": 32,
   "metadata": {},
   "outputs": [],
   "source": [
    "clf = MultinomialNB()\n",
    "model_plain_NB = clf.fit(dftrain, ytrain)\n",
    "preds = model_plain_NB.predict(dftest)"
   ]
  },
  {
   "cell_type": "code",
   "execution_count": 33,
   "metadata": {},
   "outputs": [
    {
     "data": {
      "text/plain": [
       "(0.868, 0.8671140939597316)"
      ]
     },
     "execution_count": 33,
     "metadata": {},
     "output_type": "execute_result"
    }
   ],
   "source": [
    "accuracy = accuracy_score(ytest, preds)\n",
    "f1 = f1_score(ytest, preds)\n",
    "accuracy, f1"
   ]
  },
  {
   "cell_type": "code",
   "execution_count": 34,
   "metadata": {},
   "outputs": [],
   "source": [
    "clf = MultinomialNB()\n",
    "model_agg = clf.fit(train_agg, ytrain_agg)\n",
    "preds = model_agg.predict(test_agg)"
   ]
  },
  {
   "cell_type": "code",
   "execution_count": 35,
   "metadata": {},
   "outputs": [
    {
     "data": {
      "text/plain": [
       "(0.8882907133243607, 0.8903566710700132)"
      ]
     },
     "execution_count": 35,
     "metadata": {},
     "output_type": "execute_result"
    }
   ],
   "source": [
    "accuracy = accuracy_score(ytest_agg, preds)\n",
    "f1 = f1_score(ytest_agg, preds)\n",
    "accuracy, f1"
   ]
  },
  {
   "cell_type": "code",
   "execution_count": 36,
   "metadata": {},
   "outputs": [],
   "source": [
    "clf = MultinomialNB()\n",
    "model2 = clf.fit(df_train_extra, ytrain)\n",
    "preds = model2.predict(df_test_extra)"
   ]
  },
  {
   "cell_type": "code",
   "execution_count": 37,
   "metadata": {},
   "outputs": [
    {
     "data": {
      "text/plain": [
       "(0.8866666666666667, 0.8877146631439893)"
      ]
     },
     "execution_count": 37,
     "metadata": {},
     "output_type": "execute_result"
    }
   ],
   "source": [
    "accuracy = accuracy_score(ytest, preds)\n",
    "f1 = f1_score(ytest, preds)\n",
    "accuracy, f1"
   ]
  },
  {
   "cell_type": "code",
   "execution_count": 38,
   "metadata": {},
   "outputs": [
    {
     "data": {
      "image/png": "[encoded data removed]",
      "text/plain": [
       "<Figure size 432x288 with 1 Axes>"
      ]
     },
     "metadata": {},
     "output_type": "display_data"
    }
   ],
   "source": [
    "probas2 = model_agg.predict_log_proba(test_agg)\n",
    "fpr2, tpr2, threshold2 = roc_curve(ytest_agg, probas2[:,1])  \n",
    "roc_auc2 = auc(fpr2, tpr2)\n",
    "plt.title('Receiver Operating Characteristic: Naive Bayes')\n",
    "plt.plot(fpr2, tpr2, 'b', label = 'AUC = %0.2f' % roc_auc2)\n",
    "plt.legend(loc = 'lower right')\n",
    "plt.plot([0, 1], [0, 1],'r--')\n",
    "plt.xlim([0, 1])\n",
    "plt.ylim([0, 1])\n",
    "plt.ylabel('True Positive Rate')\n",
    "plt.xlabel('False Positive Rate')\n",
    "plt.show()"
   ]
  },
  {
   "cell_type": "code",
   "execution_count": 39,
   "metadata": {},
   "outputs": [],
   "source": [
    "feature_names2 = np.array(list(train_agg.columns.values))\n",
    "#feature_importances = np.argsort(clf.coef_[0])\n",
    "#feature_names[feature_importances][-20:]"
   ]
  },
  {
   "cell_type": "code",
   "execution_count": 40,
   "metadata": {},
   "outputs": [],
   "source": [
    "n=20\n",
    "coefs_with_fns = sorted(zip(model_agg.coef_[0], feature_names2))\n",
    "top2 = zip(coefs_with_fns[:n], coefs_with_fns[:-(n + 1):-1])"
   ]
  },
  {
   "cell_type": "code",
   "execution_count": 46,
   "metadata": {},
   "outputs": [
    {
     "name": "stdout",
     "output_type": "stream",
     "text": [
      "Stored 'table2' (DataFrame)\n"
     ]
    }
   ],
   "source": [
    "table2 = pd.DataFrame(columns=['informative for \"real\"', 'coefficient for \"real\"', \n",
    "                               'informative for \"fake\"', 'coefficient for \"fake\"'])\n",
    "for i in top2:\n",
    "    table2 = table2.append({'informative for \"real\"': i[0][1], 'coefficient for \"real\"': i[0][0],\n",
    "                           'informative for \"fake\"': i[1][1], 'coefficient for \"fake\"': i[1][0]}, ignore_index=True)\n",
    "%store table2"
   ]
  },
  {
   "cell_type": "code",
   "execution_count": 42,
   "metadata": {},
   "outputs": [
    {
     "data": {
      "text/html": [
       "<div>\n",
       "<style scoped>\n",
       "    .dataframe tbody tr th:only-of-type {\n",
       "        vertical-align: middle;\n",
       "    }\n",
       "\n",
       "    .dataframe tbody tr th {\n",
       "        vertical-align: top;\n",
       "    }\n",
       "\n",
       "    .dataframe thead th {\n",
       "        text-align: right;\n",
       "    }\n",
       "</style>\n",
       "<table border=\"1\" class=\"dataframe\">\n",
       "  <thead>\n",
       "    <tr style=\"text-align: right;\">\n",
       "      <th></th>\n",
       "      <th>informative for \"real\"</th>\n",
       "      <th>coefficient for \"real\"</th>\n",
       "      <th>informative for \"fake\"</th>\n",
       "      <th>coefficient for \"fake\"</th>\n",
       "    </tr>\n",
       "  </thead>\n",
       "  <tbody>\n",
       "    <tr>\n",
       "      <th>0</th>\n",
       "      <td>000</td>\n",
       "      <td>-10.993878</td>\n",
       "      <td>avg_word_length</td>\n",
       "      <td>-3.350543</td>\n",
       "    </tr>\n",
       "    <tr>\n",
       "      <th>1</th>\n",
       "      <td>breitbart news</td>\n",
       "      <td>-10.013048</td>\n",
       "      <td>num_nums</td>\n",
       "      <td>-3.567130</td>\n",
       "    </tr>\n",
       "    <tr>\n",
       "      <th>2</th>\n",
       "      <td>mr obama</td>\n",
       "      <td>-10.013048</td>\n",
       "      <td>clinton</td>\n",
       "      <td>-4.614886</td>\n",
       "    </tr>\n",
       "    <tr>\n",
       "      <th>3</th>\n",
       "      <td>said mr</td>\n",
       "      <td>-10.013048</td>\n",
       "      <td>trump</td>\n",
       "      <td>-4.644156</td>\n",
       "    </tr>\n",
       "    <tr>\n",
       "      <th>4</th>\n",
       "      <td>mr trumps</td>\n",
       "      <td>-9.895265</td>\n",
       "      <td>people</td>\n",
       "      <td>-4.645905</td>\n",
       "    </tr>\n",
       "    <tr>\n",
       "      <th>5</th>\n",
       "      <td>com</td>\n",
       "      <td>-9.384440</td>\n",
       "      <td>said</td>\n",
       "      <td>-4.953623</td>\n",
       "    </tr>\n",
       "    <tr>\n",
       "      <th>6</th>\n",
       "      <td>games</td>\n",
       "      <td>-9.148051</td>\n",
       "      <td>like</td>\n",
       "      <td>-4.999916</td>\n",
       "    </tr>\n",
       "    <tr>\n",
       "      <th>7</th>\n",
       "      <td>pence</td>\n",
       "      <td>-9.148051</td>\n",
       "      <td>hillary</td>\n",
       "      <td>-5.018373</td>\n",
       "    </tr>\n",
       "    <tr>\n",
       "      <th>8</th>\n",
       "      <td>president trump</td>\n",
       "      <td>-9.148051</td>\n",
       "      <td>just</td>\n",
       "      <td>-5.061632</td>\n",
       "    </tr>\n",
       "    <tr>\n",
       "      <th>9</th>\n",
       "      <td>castro</td>\n",
       "      <td>-9.096758</td>\n",
       "      <td>new</td>\n",
       "      <td>-5.063402</td>\n",
       "    </tr>\n",
       "    <tr>\n",
       "      <th>10</th>\n",
       "      <td>breitbart</td>\n",
       "      <td>-9.001447</td>\n",
       "      <td>world</td>\n",
       "      <td>-5.246610</td>\n",
       "    </tr>\n",
       "    <tr>\n",
       "      <th>11</th>\n",
       "      <td>islamic state</td>\n",
       "      <td>-8.760285</td>\n",
       "      <td>state</td>\n",
       "      <td>-5.262696</td>\n",
       "    </tr>\n",
       "    <tr>\n",
       "      <th>12</th>\n",
       "      <td>season</td>\n",
       "      <td>-8.626754</td>\n",
       "      <td>time</td>\n",
       "      <td>-5.301268</td>\n",
       "    </tr>\n",
       "    <tr>\n",
       "      <th>13</th>\n",
       "      <td>spokesman</td>\n",
       "      <td>-8.626754</td>\n",
       "      <td>2016</td>\n",
       "      <td>-5.305773</td>\n",
       "    </tr>\n",
       "    <tr>\n",
       "      <th>14</th>\n",
       "      <td>mrs clinton</td>\n",
       "      <td>-8.566129</td>\n",
       "      <td>president</td>\n",
       "      <td>-5.332075</td>\n",
       "    </tr>\n",
       "    <tr>\n",
       "      <th>15</th>\n",
       "      <td>music</td>\n",
       "      <td>-8.566129</td>\n",
       "      <td>obama</td>\n",
       "      <td>-5.407878</td>\n",
       "    </tr>\n",
       "    <tr>\n",
       "      <th>16</th>\n",
       "      <td>ban</td>\n",
       "      <td>-8.508971</td>\n",
       "      <td>election</td>\n",
       "      <td>-5.411635</td>\n",
       "    </tr>\n",
       "    <tr>\n",
       "      <th>17</th>\n",
       "      <td>lawyer</td>\n",
       "      <td>-8.508971</td>\n",
       "      <td>war</td>\n",
       "      <td>-5.412891</td>\n",
       "    </tr>\n",
       "    <tr>\n",
       "      <th>18</th>\n",
       "      <td>daughter</td>\n",
       "      <td>-8.481572</td>\n",
       "      <td>government</td>\n",
       "      <td>-5.416667</td>\n",
       "    </tr>\n",
       "    <tr>\n",
       "      <th>19</th>\n",
       "      <td>hill</td>\n",
       "      <td>-8.454904</td>\n",
       "      <td>states</td>\n",
       "      <td>-5.450003</td>\n",
       "    </tr>\n",
       "  </tbody>\n",
       "</table>\n",
       "</div>"
      ],
      "text/plain": [
       "   informative for \"real\"  coefficient for \"real\" informative for \"fake\"  \\\n",
       "0                     000              -10.993878        avg_word_length   \n",
       "1          breitbart news              -10.013048               num_nums   \n",
       "2                mr obama              -10.013048                clinton   \n",
       "3                 said mr              -10.013048                  trump   \n",
       "4               mr trumps               -9.895265                 people   \n",
       "5                     com               -9.384440                   said   \n",
       "6                   games               -9.148051                   like   \n",
       "7                   pence               -9.148051                hillary   \n",
       "8         president trump               -9.148051                   just   \n",
       "9                  castro               -9.096758                    new   \n",
       "10              breitbart               -9.001447                  world   \n",
       "11          islamic state               -8.760285                  state   \n",
       "12                 season               -8.626754                   time   \n",
       "13              spokesman               -8.626754                   2016   \n",
       "14            mrs clinton               -8.566129              president   \n",
       "15                  music               -8.566129                  obama   \n",
       "16                    ban               -8.508971               election   \n",
       "17                 lawyer               -8.508971                    war   \n",
       "18               daughter               -8.481572             government   \n",
       "19                   hill               -8.454904                 states   \n",
       "\n",
       "    coefficient for \"fake\"  \n",
       "0                -3.350543  \n",
       "1                -3.567130  \n",
       "2                -4.614886  \n",
       "3                -4.644156  \n",
       "4                -4.645905  \n",
       "5                -4.953623  \n",
       "6                -4.999916  \n",
       "7                -5.018373  \n",
       "8                -5.061632  \n",
       "9                -5.063402  \n",
       "10               -5.246610  \n",
       "11               -5.262696  \n",
       "12               -5.301268  \n",
       "13               -5.305773  \n",
       "14               -5.332075  \n",
       "15               -5.407878  \n",
       "16               -5.411635  \n",
       "17               -5.412891  \n",
       "18               -5.416667  \n",
       "19               -5.450003  "
      ]
     },
     "execution_count": 42,
     "metadata": {},
     "output_type": "execute_result"
    }
   ],
   "source": [
    "table2"
   ]
  },
  {
   "cell_type": "code",
   "execution_count": null,
   "metadata": {},
   "outputs": [],
   "source": []
  }
 ],
 "metadata": {
  "kernelspec": {
   "display_name": "Python 3",
   "language": "python",
   "name": "python3"
  },
  "language_info": {
   "codemirror_mode": {
    "name": "ipython",
    "version": 3
   },
   "file_extension": ".py",
   "mimetype": "text/x-python",
   "name": "python",
   "nbconvert_exporter": "python",
   "pygments_lexer": "ipython3",
   "version": "3.6.5"
  }
 },
 "nbformat": 4,
 "nbformat_minor": 2
}
